{
 "cells": [
  {
   "attachments": {},
   "cell_type": "markdown",
   "metadata": {},
   "source": [
    "This notebook go through the ways of using this **LinerR** package to train models."
   ]
  },
  {
   "cell_type": "code",
   "execution_count": 1,
   "metadata": {},
   "outputs": [],
   "source": [
    "# import packages\n",
    "from LinerR.linreg import *\n",
    "from sklearn.datasets import load_iris\n",
    "from sklearn.model_selection import train_test_split\n",
    "import numpy as np\n",
    "import pandas as pd\n",
    "from sklearn.metrics import r2_score"
   ]
  },
  {
   "attachments": {},
   "cell_type": "markdown",
   "metadata": {},
   "source": [
    "# Linear Regression"
   ]
  },
  {
   "cell_type": "code",
   "execution_count": 7,
   "metadata": {},
   "outputs": [
    {
     "name": "stdout",
     "output_type": "stream",
     "text": [
      "Your y is of shape (4,), we create a new one of (4, 1) for your model.\n"
     ]
    },
    {
     "data": {
      "text/plain": [
       "array([[3.],\n",
       "       [1.],\n",
       "       [2.]])"
      ]
     },
     "execution_count": 7,
     "metadata": {},
     "output_type": "execute_result"
    }
   ],
   "source": [
    "# get data\n",
    "X = np.array([[1, 1], [1, 2], [2, 2], [2, 3]])\n",
    "y = np.dot(X, np.array([1, 2])) + 3\n",
    "# normalize(X) You can choose not to do this, but normalize data will speed your fitting.\n",
    "# create model\n",
    "model = LinearRegression621(eta=1, max_iter=60000)\n",
    "# fit model\n",
    "model.fit(X, y)\n",
    "# get predictions\n",
    "y_pred = model.predict(X)\n",
    "model.B"
   ]
  },
  {
   "cell_type": "code",
   "execution_count": 3,
   "metadata": {},
   "outputs": [
    {
     "data": {
      "text/plain": [
       "array([[8.]])"
      ]
     },
     "execution_count": 3,
     "metadata": {},
     "output_type": "execute_result"
    }
   ],
   "source": [
    "y_pred"
   ]
  },
  {
   "attachments": {},
   "cell_type": "markdown",
   "metadata": {},
   "source": [
    "# Logistic Regression"
   ]
  },
  {
   "cell_type": "code",
   "execution_count": 37,
   "metadata": {},
   "outputs": [
    {
     "name": "stdout",
     "output_type": "stream",
     "text": [
      "Your y is of shape (100,), we create a new one of (100, 1) for your model.\n",
      "correct rate: 1.0\n"
     ]
    }
   ],
   "source": [
    "X, y = load_iris(return_X_y=True)\n",
    "X, y = X[y<=1], y[y<=1] # here we only use 2 labels\n",
    "\n",
    "\"\"\"\n",
    "Here bacuase we are not using mini-batch, so it doesn't matter whether\n",
    "or not we shuffle the data, all the data will take part in the gradient\n",
    "calculation!!!\"\"\"\n",
    "# from sklearn.utils import shuffle\n",
    "# X, y = shuffle(X, y, random_state=13)\n",
    "\n",
    "\"\"\"\n",
    "It's recommended to normalize the data, and it's recommended to only normalize\n",
    "according to the μ and σ of the training set. However, for small dataset, it's\n",
    "okay if you don't.\"\"\"\n",
    "# normalize(X)\n",
    "\n",
    "model = LogisticRegression621(max_iter=10_000, eta=1)\n",
    "model.fit(X, y)\n",
    "ans = (np.sum(model.predict(X)==y))\n",
    "print(\"correct rate: {}\".format(ans/len(y)))\n",
    "del model"
   ]
  },
  {
   "attachments": {},
   "cell_type": "markdown",
   "metadata": {},
   "source": [
    "# "
   ]
  },
  {
   "cell_type": "code",
   "execution_count": null,
   "metadata": {},
   "outputs": [],
   "source": []
  }
 ],
 "metadata": {
  "kernelspec": {
   "display_name": "ML_lab",
   "language": "python",
   "name": "python3"
  },
  "language_info": {
   "codemirror_mode": {
    "name": "ipython",
    "version": 3
   },
   "file_extension": ".py",
   "mimetype": "text/x-python",
   "name": "python",
   "nbconvert_exporter": "python",
   "pygments_lexer": "ipython3",
   "version": "3.9.16"
  },
  "orig_nbformat": 4
 },
 "nbformat": 4,
 "nbformat_minor": 2
}
